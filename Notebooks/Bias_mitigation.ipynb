{
 "cells": [
  {
   "metadata": {},
   "cell_type": "markdown",
   "source": [
    "# Mitigation Algorithmic Bias and Ensuring Fairness\n",
    "\n",
    "\n",
    "## Objective\n",
    "- Develop an AI model that detects mitigation biases in datasets, ensuring fairer outcomes across diverse demographics.\n",
    "\n",
    "\n",
    "This repository contains a project that develops an AI model to detect and mitigate algorithmic bias in datasets, ensuring fairer outcomes across diverse demographics. The project demonstrates bias measurement using the Disparate Impact Ratio (DIR) and bias mitigation using a re-weighting (resampling) technique on the UCI Adult dataset.\n",
    "\n",
    "\n",
    "## About the Author\n",
    "\n",
    "**Ibrahim Abubakar Buba** is a researcher and machine learning enthusiast with a strong background in data science and fairness-aware AI. With years of experience in developing and deploying machine learning models, Ibrahim Abubakar Buba is passionate about addressing ethical issues in AI and ensuring equitable outcomes in technology. This project reflects a commitment to creating transparent, fair, and impactful machine learning systems.\n",
    "\n"
   ],
   "id": "a61a4f548eb808a4"
  },
  {
   "metadata": {
    "ExecuteTime": {
     "end_time": "2025-03-08T22:32:20.938327Z",
     "start_time": "2025-03-08T22:32:20.922708Z"
    }
   },
   "cell_type": "code",
   "source": [
    "# Import necessary libraries\n",
    "import pandas as pd\n",
    "import numpy as np\n",
    "import seaborn as sns\n",
    "import matplotlib.pyplot as plt\n"
   ],
   "id": "17177827de599754",
   "outputs": [],
   "execution_count": 22
  },
  {
   "metadata": {
    "ExecuteTime": {
     "end_time": "2025-03-08T22:32:32.182850Z",
     "start_time": "2025-03-08T22:32:21.282065Z"
    }
   },
   "cell_type": "code",
   "source": [
    "\n",
    "# =============================================================================\n",
    "# 1. Load and Explore the Dataset\n",
    "# =============================================================================\n",
    "\n",
    "# Define URL and column names for the Adult dataset\n",
    "url = \"https://archive.ics.uci.edu/ml/machine-learning-databases/adult/adult.data\"\n",
    "columns = [\n",
    "    'age', 'workclass', 'fnlwgt', 'education', 'education-num', 'marital-status',\n",
    "    'occupation', 'relationship', 'race', 'sex', 'capital-gain', 'capital-loss', \n",
    "    'hour-per-week', 'native-country', 'income'\n",
    "]\n",
    "\n",
    "# Read the CSV, treating '?' as missing values and removing extra spaces\n",
    "df = pd.read_csv(url, names=columns, na_values=\"?\", skipinitialspace=True)\n",
    "\n",
    "# Display basic info and first few rows\n",
    "print(\"Dataframe Info:\")\n",
    "df.info()\n",
    "print(\"\\nFirst 5 rows:\")\n",
    "print(df.head())\n"
   ],
   "id": "11652afd58b9e13c",
   "outputs": [
    {
     "name": "stdout",
     "output_type": "stream",
     "text": [
      "Dataframe Info:\n",
      "<class 'pandas.core.frame.DataFrame'>\n",
      "RangeIndex: 32561 entries, 0 to 32560\n",
      "Data columns (total 15 columns):\n",
      " #   Column          Non-Null Count  Dtype \n",
      "---  ------          --------------  ----- \n",
      " 0   age             32561 non-null  int64 \n",
      " 1   workclass       30725 non-null  object\n",
      " 2   fnlwgt          32561 non-null  int64 \n",
      " 3   education       32561 non-null  object\n",
      " 4   education-num   32561 non-null  int64 \n",
      " 5   marital-status  32561 non-null  object\n",
      " 6   occupation      30718 non-null  object\n",
      " 7   relationship    32561 non-null  object\n",
      " 8   race            32561 non-null  object\n",
      " 9   sex             32561 non-null  object\n",
      " 10  capital-gain    32561 non-null  int64 \n",
      " 11  capital-loss    32561 non-null  int64 \n",
      " 12  hour-per-week   32561 non-null  int64 \n",
      " 13  native-country  31978 non-null  object\n",
      " 14  income          32561 non-null  object\n",
      "dtypes: int64(6), object(9)\n",
      "memory usage: 3.7+ MB\n",
      "\n",
      "First 5 rows:\n",
      "   age         workclass  fnlwgt  education  education-num  \\\n",
      "0   39         State-gov   77516  Bachelors             13   \n",
      "1   50  Self-emp-not-inc   83311  Bachelors             13   \n",
      "2   38           Private  215646    HS-grad              9   \n",
      "3   53           Private  234721       11th              7   \n",
      "4   28           Private  338409  Bachelors             13   \n",
      "\n",
      "       marital-status         occupation   relationship   race     sex  \\\n",
      "0       Never-married       Adm-clerical  Not-in-family  White    Male   \n",
      "1  Married-civ-spouse    Exec-managerial        Husband  White    Male   \n",
      "2            Divorced  Handlers-cleaners  Not-in-family  White    Male   \n",
      "3  Married-civ-spouse  Handlers-cleaners        Husband  Black    Male   \n",
      "4  Married-civ-spouse     Prof-specialty           Wife  Black  Female   \n",
      "\n",
      "   capital-gain  capital-loss  hour-per-week native-country income  \n",
      "0          2174             0             40  United-States  <=50K  \n",
      "1             0             0             13  United-States  <=50K  \n",
      "2             0             0             40  United-States  <=50K  \n",
      "3             0             0             40  United-States  <=50K  \n",
      "4             0             0             40           Cuba  <=50K  \n"
     ]
    }
   ],
   "execution_count": 23
  },
  {
   "metadata": {
    "ExecuteTime": {
     "end_time": "2025-03-08T22:32:33.193543Z",
     "start_time": "2025-03-08T22:32:32.182850Z"
    }
   },
   "cell_type": "code",
   "source": [
    "\n",
    "# =============================================================================\n",
    "# 2. Visualize Bias in the Dataset\n",
    "# =============================================================================\n",
    "\n",
    "# Plot income distribution by gender\n",
    "sns.countplot(data=df, x=\"income\", hue=\"sex\")\n",
    "plt.title(\"Income Distribution by Gender\")\n",
    "plt.show()"
   ],
   "id": "c25b1c09ff82f7cc",
   "outputs": [
    {
     "data": {
      "text/plain": [
       "<Figure size 640x480 with 1 Axes>"
      ],
      "image/png": "[encoded data removed]"
     },
     "metadata": {},
     "output_type": "display_data"
    }
   ],
   "execution_count": 24
  },
  {
   "metadata": {
    "ExecuteTime": {
     "end_time": "2025-03-08T22:32:34.630088Z",
     "start_time": "2025-03-08T22:32:33.193543Z"
    }
   },
   "cell_type": "code",
   "source": [
    "\n",
    "# Plot income distribution by race\n",
    "sns.countplot(data=df, x=\"income\", hue=\"race\")\n",
    "plt.title(\"Income Distribution by Race\")\n",
    "plt.show()"
   ],
   "id": "d68b00bc83edcc27",
   "outputs": [
    {
     "data": {
      "text/plain": [
       "<Figure size 640x480 with 1 Axes>"
      ],
      "image/png": "[encoded data removed]"
     },
     "metadata": {},
     "output_type": "display_data"
    }
   ],
   "execution_count": 25
  },
  {
   "metadata": {
    "ExecuteTime": {
     "end_time": "2025-03-08T22:32:34.661338Z",
     "start_time": "2025-03-08T22:32:34.630088Z"
    }
   },
   "cell_type": "code",
   "source": [
    "\n",
    "# =============================================================================\n",
    "# 3. Define Bias Measurement Function (Disparate Impact Ratio)\n",
    "# =============================================================================\n",
    "\n",
    "def disparate_impact_ratio(df, protected_column, privilage_value, target_column, favorable_value):\n",
    "    \"\"\"\n",
    "    Computes the Disparate Impact Ratio (DIR) for a protected attribute.\n",
    "    \n",
    "    Parameters:\n",
    "      df: DataFrame containing the data.\n",
    "      protected_column: The column name representing the protected attribute.\n",
    "      privilage_value: The value of the protected attribute considered privileged.\n",
    "      target_column: The column name representing the decision/outcome.\n",
    "      favorable_value: The value of the outcome that is considered favorable.\n",
    "      \n",
    "    Returns:\n",
    "      The ratio of the favorable outcome rate for the unprivileged group to that of the privileged group.\n",
    "    \"\"\"\n",
    "    # Split the dataset into privileged and non-privileged groups\n",
    "    privilage_group = df[df[protected_column] == privilage_value]\n",
    "    protected_group = df[df[protected_column] != privilage_value]\n",
    "    \n",
    "    # Calculate the probability of a favorable outcome in both groups\n",
    "    privilage_outcome = (privilage_group[target_column] == favorable_value).mean()\n",
    "    protected_outcome = (protected_group[target_column] == favorable_value).mean()\n",
    "    \n",
    "    # Return the Disparate Impact Ratio\n",
    "    return protected_outcome / privilage_outcome\n"
   ],
   "id": "fecc31677ecb4d9",
   "outputs": [],
   "execution_count": 26
  },
  {
   "metadata": {
    "ExecuteTime": {
     "end_time": "2025-03-08T22:32:35.195041Z",
     "start_time": "2025-03-08T22:32:34.661338Z"
    }
   },
   "cell_type": "code",
   "source": [
    "# =============================================================================\n",
    "# 4. Preprocess the Data and Encode Categorical Features\n",
    "# =============================================================================\n",
    "\n",
    "# Convert target variable \"income\" to binary (1 if >50K, else 0)\n",
    "df[\"income\"] = df[\"income\"].apply(lambda x: 1 if x == \">50K\" else 0)\n",
    "\n",
    "# Compute initial fairness metrics on the raw data\n",
    "dir_gender = disparate_impact_ratio(df, protected_column=\"sex\", privilage_value=\"Male\", target_column=\"income\", favorable_value=1)\n",
    "dir_race = disparate_impact_ratio(df, protected_column=\"race\", privilage_value=\"White\", target_column=\"income\", favorable_value=1)\n",
    "print(f\"\\nInitial Disparate Impact Ratio (Gender): {dir_gender:.3f}\")\n",
    "print(f\"Initial Disparate Impact Ratio (Race): {dir_race:.3f}\")\n",
    "\n",
    "# Remove rows with missing values\n",
    "df.dropna(inplace=True)\n",
    "\n",
    "# Identify categorical columns to encode (excluding the target \"income\")\n",
    "categorical_columns = ['workclass', 'education', 'marital-status', 'occupation', 'relationship', 'race', 'sex', 'native-country']\n",
    "\n",
    "# One-hot encode the categorical variables\n",
    "df = pd.get_dummies(df, columns=categorical_columns, drop_first=True)\n"
   ],
   "id": "75c98443afa5f55c",
   "outputs": [
    {
     "name": "stdout",
     "output_type": "stream",
     "text": [
      "\n",
      "Initial Disparate Impact Ratio (Gender): 0.358\n",
      "Initial Disparate Impact Ratio (Race): 0.596\n"
     ]
    }
   ],
   "execution_count": 27
  },
  {
   "metadata": {
    "ExecuteTime": {
     "end_time": "2025-03-08T22:32:35.476283Z",
     "start_time": "2025-03-08T22:32:35.195041Z"
    }
   },
   "cell_type": "code",
   "source": [
    "# =============================================================================\n",
    "# 5. Split the Data and Standardize Features\n",
    "# =============================================================================\n",
    "\n",
    "# Separate features and target variable\n",
    "X = df.drop('income', axis=1)\n",
    "y = df['income']\n",
    "\n",
    "# Import modules for splitting and scaling\n",
    "from sklearn.model_selection import train_test_split \n",
    "from sklearn.preprocessing import StandardScaler\n",
    "\n",
    "# Split data into training and testing sets (80% train, 20% test)\n",
    "X_train, X_test, y_train, y_test = train_test_split(X, y, test_size=0.2, random_state=42)\n",
    "\n",
    "# Standardize features so that each feature has zero mean and unit variance\n",
    "scaler = StandardScaler()\n",
    "X_train = scaler.fit_transform(X_train)\n",
    "X_test = scaler.transform(X_test)\n"
   ],
   "id": "f2b1bfb995f9dd85",
   "outputs": [],
   "execution_count": 28
  },
  {
   "metadata": {
    "ExecuteTime": {
     "end_time": "2025-03-08T22:32:36.296455Z",
     "start_time": "2025-03-08T22:32:35.476283Z"
    }
   },
   "cell_type": "code",
   "source": [
    "# =============================================================================\n",
    "# 6. Train a Logistic Regression Model\n",
    "# =============================================================================\n",
    "\n",
    "from sklearn.linear_model import LogisticRegression\n",
    "from sklearn.metrics import accuracy_score\n",
    "\n",
    "# Create and train the logistic regression model\n",
    "# Note: Increase max_iter if the solver needs more iterations to converge.\n",
    "model = LogisticRegression(max_iter=1000)\n",
    "model.fit(X_train, y_train)\n",
    "\n",
    "# Predict outcomes on the test set and compute accuracy\n",
    "y_pred = model.predict(X_test)\n",
    "accuracy = accuracy_score(y_test, y_pred)\n",
    "print(f\"\\nInitial Model Accuracy: {accuracy:.3f}\")\n"
   ],
   "id": "425cbf52def3f74e",
   "outputs": [
    {
     "name": "stdout",
     "output_type": "stream",
     "text": [
      "\n",
      "Initial Model Accuracy: 0.853\n"
     ]
    }
   ],
   "execution_count": 29
  },
  {
   "metadata": {
    "ExecuteTime": {
     "end_time": "2025-03-08T22:32:36.703434Z",
     "start_time": "2025-03-08T22:32:36.296455Z"
    }
   },
   "cell_type": "code",
   "source": [
    "\n",
    "# =============================================================================\n",
    "# 7. Bias Mitigation via Re-weighting (Resampling)\n",
    "# =============================================================================\n",
    "\n",
    "from imblearn.under_sampling import RandomUnderSampler\n",
    "\n",
    "# Apply Random Under-Sampling to balance the classes\n",
    "rus = RandomUnderSampler(sampling_strategy='auto', random_state=42)\n",
    "X_train_resampled, y_train_resampled = rus.fit_resample(X_train, y_train)\n",
    "\n",
    "# Train a new logistic regression model on the resampled data\n",
    "model_resampled = LogisticRegression(max_iter=1000)\n",
    "model_resampled.fit(X_train_resampled, y_train_resampled)\n",
    "\n",
    "# Predict outcomes using the model trained on resampled data and compute accuracy\n",
    "y_pred_resampled = model_resampled.predict(X_test)\n",
    "accuracy_resampled = accuracy_score(y_test, y_pred_resampled)\n",
    "print(f\"New Model Accuracy after Resampling: {accuracy_resampled:.3f}\")\n"
   ],
   "id": "8747823d5da0259c",
   "outputs": [
    {
     "name": "stdout",
     "output_type": "stream",
     "text": [
      "New Model Accuracy after Resampling: 0.811\n"
     ]
    }
   ],
   "execution_count": 30
  },
  {
   "metadata": {
    "ExecuteTime": {
     "end_time": "2025-03-08T22:32:36.734671Z",
     "start_time": "2025-03-08T22:32:36.703434Z"
    }
   },
   "cell_type": "code",
   "source": [
    "\n",
    "\n",
    "# =============================================================================\n",
    "# 8. Evaluation of Fairness After Mitigation\n",
    "# =============================================================================\n",
    "\n",
    "# Since the training and fairness evaluation were done on different representations,\n",
    "# we evaluate DIR on the original (pre-encoded) dataset before dropping missing values.\n",
    "# In a production setting, you would maintain the original protected attributes \n",
    "# separately to compute fairness metrics on model predictions.\n",
    "\n",
    "# For demonstration, we assume that the resampling mitigation has affected the model predictions.\n",
    "# In practice, you might compare predicted outcomes across groups (using original labels)\n",
    "# to recalculate DIR. Here, we print a note indicating further steps would be needed.\n",
    "print(\"\\nNote: Fairness evaluation of model predictions requires mapping the resampled predictions \"\n",
    "      \"back to the original protected attribute values. In this demo, we computed DIR on the raw data \"\n",
    "      \"before encoding. Ensure that when deploying mitigation techniques, fairness metrics are evaluated \"\n",
    "      \"on data that preserves protected attributes for proper comparison.\")\n",
    "\n",
    "print(\"\\nBias mitigation process completed.\")\n"
   ],
   "id": "656351b1ed2d79a3",
   "outputs": [
    {
     "name": "stdout",
     "output_type": "stream",
     "text": [
      "\n",
      "Note: Fairness evaluation of model predictions requires mapping the resampled predictions back to the original protected attribute values. In this demo, we computed DIR on the raw data before encoding. Ensure that when deploying mitigation techniques, fairness metrics are evaluated on data that preserves protected attributes for proper comparison.\n",
      "\n",
      "Bias mitigation process completed.\n"
     ]
    }
   ],
   "execution_count": 31
  },
  {
   "metadata": {
    "ExecuteTime": {
     "end_time": "2025-03-08T22:32:36.750295Z",
     "start_time": "2025-03-08T22:32:36.734671Z"
    }
   },
   "cell_type": "code",
   "source": "",
   "id": "83e26854261f0d32",
   "outputs": [],
   "execution_count": 31
  }
 ],
 "metadata": {
  "kernelspec": {
   "display_name": "Python 3",
   "language": "python",
   "name": "python3"
  },
  "language_info": {
   "codemirror_mode": {
    "name": "ipython",
    "version": 2
   },
   "file_extension": ".py",
   "mimetype": "text/x-python",
   "name": "python",
   "nbconvert_exporter": "python",
   "pygments_lexer": "ipython2",
   "version": "2.7.6"
  }
 },
 "nbformat": 4,
 "nbformat_minor": 5
}
